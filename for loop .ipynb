{
 "cells": [
  {
   "cell_type": "code",
   "execution_count": 5,
   "id": "c26f4aff",
   "metadata": {},
   "outputs": [
    {
     "name": "stdout",
     "output_type": "stream",
     "text": [
      "Hello\n",
      "Hello\n",
      "Hello\n"
     ]
    }
   ],
   "source": [
    "#wap print hello 3 times\n",
    "for i in range(3):\n",
    "    print(\"Hello\")\n"
   ]
  },
  {
   "cell_type": "code",
   "execution_count": 6,
   "id": "57125075",
   "metadata": {},
   "outputs": [
    {
     "name": "stdout",
     "output_type": "stream",
     "text": [
      "A\n",
      "A\n",
      "A\n",
      "B\n",
      "B\n",
      "C\n",
      "C\n",
      "C\n"
     ]
    }
   ],
   "source": [
    "for i in range(3):\n",
    "    print(\"A\")\n",
    "    \n",
    "for i in range(2):\n",
    "    print(\"B\")\n",
    "    \n",
    "for i in range(3):\n",
    "    print(\"C\")"
   ]
  },
  {
   "cell_type": "code",
   "execution_count": 11,
   "id": "4b58d3eb",
   "metadata": {},
   "outputs": [
    {
     "name": "stdout",
     "output_type": "stream",
     "text": [
      "A\n",
      "B\n",
      "A\n",
      "B\n",
      "A\n",
      "B\n",
      "c\n",
      "c\n"
     ]
    }
   ],
   "source": [
    "for i in range(3):\n",
    "    print(\"A\")\n",
    "    print(\"B\")\n",
    "    \n",
    "for i in range(2):\n",
    "    print(\"c\")"
   ]
  },
  {
   "cell_type": "code",
   "execution_count": 13,
   "id": "8a53a22d",
   "metadata": {},
   "outputs": [
    {
     "name": "stdout",
     "output_type": "stream",
     "text": [
      "The square root number is 100\n",
      "The square root number is 121\n",
      "The square root number is 144\n",
      "The square root number is 169\n",
      "The square root number is 196\n",
      "The square root number is 225\n"
     ]
    }
   ],
   "source": [
    "for i in range(10,16):\n",
    "    print(\"The square root number is {}\".format(i*i))"
   ]
  },
  {
   "cell_type": "code",
   "execution_count": 15,
   "id": "633695d0",
   "metadata": {},
   "outputs": [
    {
     "name": "stdout",
     "output_type": "stream",
     "text": [
      "enter the number is : 10\n",
      "enter the number is : 16\n",
      "The square root number is 100\n",
      "The square root number is 121\n",
      "The square root number is 144\n",
      "The square root number is 169\n",
      "The square root number is 196\n",
      "The square root number is 225\n"
     ]
    }
   ],
   "source": [
    "num=eval(input(\"enter the number is : \"))\n",
    "num1=eval(input(\"enter the number is : \"))\n",
    "for i in range(num,num1):\n",
    "    print(\"The square root number is {}\".format(i*i))"
   ]
  },
  {
   "cell_type": "code",
   "execution_count": 30,
   "id": "4d519305",
   "metadata": {},
   "outputs": [
    {
     "name": "stdout",
     "output_type": "stream",
     "text": [
      "enter the number is : 10\n",
      "enter the number is : 17\n",
      "100\n",
      "121\n",
      "144\n",
      "169\n",
      "196\n",
      "225\n",
      "256\n"
     ]
    }
   ],
   "source": [
    "def square():\n",
    "    num3=eval(input(\"enter the number is : \"))\n",
    "    num4=eval(input(\"enter the number is : \"))\n",
    "    \n",
    "    for i in range(num3,num4):\n",
    "        print(i*i)\n",
    "    \n",
    "square()\n",
    "    "
   ]
  },
  {
   "cell_type": "code",
   "execution_count": 27,
   "id": "21d794ed",
   "metadata": {},
   "outputs": [
    {
     "name": "stdout",
     "output_type": "stream",
     "text": [
      "100\n",
      "121\n",
      "144\n",
      "169\n",
      "196\n",
      "225\n"
     ]
    }
   ],
   "source": [
    "def square(num2,num4):\n",
    "    for i in range (num2,num4):\n",
    "        print(i*i)\n",
    "        \n",
    "square(10,16)"
   ]
  },
  {
   "cell_type": "code",
   "execution_count": 1,
   "id": "3b457baf",
   "metadata": {},
   "outputs": [
    {
     "name": "stdout",
     "output_type": "stream",
     "text": [
      "enter the numbeer: 4\n",
      "16\n",
      "enter the numbeer: 3\n",
      "9\n",
      "enter the numbeer: 7\n",
      "49\n",
      "enter the numbeer: 5\n",
      "25\n",
      "enter the numbeer: 9\n",
      "81\n"
     ]
    }
   ],
   "source": [
    "for i in range(5):\n",
    "    num=eval(input(\"enter the numbeer: \"))\n",
    "    print(num*num)"
   ]
  },
  {
   "cell_type": "code",
   "execution_count": 3,
   "id": "18dc379c",
   "metadata": {},
   "outputs": [
    {
     "name": "stdout",
     "output_type": "stream",
     "text": [
      "324\n",
      "196\n",
      "225\n",
      "25\n",
      "400\n"
     ]
    }
   ],
   "source": [
    "import random\n",
    "for i in range(5):\n",
    "    numi=random.randint(1,20)\n",
    "    print(numi*numi)"
   ]
  },
  {
   "cell_type": "code",
   "execution_count": 4,
   "id": "6406300f",
   "metadata": {},
   "outputs": [
    {
     "ename": "SyntaxError",
     "evalue": "invalid syntax (169967741.py, line 3)",
     "output_type": "error",
     "traceback": [
      "\u001b[1;36m  Cell \u001b[1;32mIn[4], line 3\u001b[1;36m\u001b[0m\n\u001b[1;33m    if i %==0:\u001b[0m\n\u001b[1;37m         ^\u001b[0m\n\u001b[1;31mSyntaxError\u001b[0m\u001b[1;31m:\u001b[0m invalid syntax\n"
     ]
    }
   ],
   "source": [
    "for i in range(10,30):\n",
    "    print(i)\n",
    "    if i %==0:\n",
    "        print(\"its is a even number\")\n",
    "\n",
    "    else:\n",
    "        print(\"its is old number\")"
   ]
  },
  {
   "cell_type": "code",
   "execution_count": null,
   "id": "a89f0f1e",
   "metadata": {},
   "outputs": [],
   "source": []
  },
  {
   "cell_type": "code",
   "execution_count": null,
   "id": "8fd0b088",
   "metadata": {},
   "outputs": [],
   "source": []
  },
  {
   "cell_type": "code",
   "execution_count": null,
   "id": "43f6fad1",
   "metadata": {},
   "outputs": [],
   "source": []
  },
  {
   "cell_type": "code",
   "execution_count": null,
   "id": "c8f2720f",
   "metadata": {},
   "outputs": [],
   "source": []
  },
  {
   "cell_type": "code",
   "execution_count": null,
   "id": "03a8f548",
   "metadata": {},
   "outputs": [],
   "source": []
  }
 ],
 "metadata": {
  "kernelspec": {
   "display_name": "Python 3 (ipykernel)",
   "language": "python",
   "name": "python3"
  },
  "language_info": {
   "codemirror_mode": {
    "name": "ipython",
    "version": 3
   },
   "file_extension": ".py",
   "mimetype": "text/x-python",
   "name": "python",
   "nbconvert_exporter": "python",
   "pygments_lexer": "ipython3",
   "version": "3.11.5"
  }
 },
 "nbformat": 4,
 "nbformat_minor": 5
}
